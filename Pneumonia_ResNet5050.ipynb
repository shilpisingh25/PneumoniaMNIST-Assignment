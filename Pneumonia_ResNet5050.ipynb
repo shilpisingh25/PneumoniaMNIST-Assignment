{
  "nbformat": 4,
  "nbformat_minor": 0,
  "metadata": {
    "colab": {
      "provenance": [],
      "gpuType": "T4"
    },
    "kernelspec": {
      "name": "python3",
      "display_name": "Python 3"
    },
    "language_info": {
      "name": "python"
    },
    "accelerator": "GPU"
  },
  "cells": [
    {
      "cell_type": "code",
      "execution_count": 1,
      "metadata": {
        "colab": {
          "base_uri": "https://localhost:8080/",
          "height": 90
        },
        "id": "A4mGvwpUo-wY",
        "outputId": "f2187b18-bb02-4904-ff49-9658ba94c7b8"
      },
      "outputs": [
        {
          "output_type": "display_data",
          "data": {
            "text/plain": [
              "<IPython.core.display.HTML object>"
            ],
            "text/html": [
              "\n",
              "     <input type=\"file\" id=\"files-df866338-c859-4536-ad90-7d77e6e6e8a1\" name=\"files[]\" multiple disabled\n",
              "        style=\"border:none\" />\n",
              "     <output id=\"result-df866338-c859-4536-ad90-7d77e6e6e8a1\">\n",
              "      Upload widget is only available when the cell has been executed in the\n",
              "      current browser session. Please rerun this cell to enable.\n",
              "      </output>\n",
              "      <script>// Copyright 2017 Google LLC\n",
              "//\n",
              "// Licensed under the Apache License, Version 2.0 (the \"License\");\n",
              "// you may not use this file except in compliance with the License.\n",
              "// You may obtain a copy of the License at\n",
              "//\n",
              "//      http://www.apache.org/licenses/LICENSE-2.0\n",
              "//\n",
              "// Unless required by applicable law or agreed to in writing, software\n",
              "// distributed under the License is distributed on an \"AS IS\" BASIS,\n",
              "// WITHOUT WARRANTIES OR CONDITIONS OF ANY KIND, either express or implied.\n",
              "// See the License for the specific language governing permissions and\n",
              "// limitations under the License.\n",
              "\n",
              "/**\n",
              " * @fileoverview Helpers for google.colab Python module.\n",
              " */\n",
              "(function(scope) {\n",
              "function span(text, styleAttributes = {}) {\n",
              "  const element = document.createElement('span');\n",
              "  element.textContent = text;\n",
              "  for (const key of Object.keys(styleAttributes)) {\n",
              "    element.style[key] = styleAttributes[key];\n",
              "  }\n",
              "  return element;\n",
              "}\n",
              "\n",
              "// Max number of bytes which will be uploaded at a time.\n",
              "const MAX_PAYLOAD_SIZE = 100 * 1024;\n",
              "\n",
              "function _uploadFiles(inputId, outputId) {\n",
              "  const steps = uploadFilesStep(inputId, outputId);\n",
              "  const outputElement = document.getElementById(outputId);\n",
              "  // Cache steps on the outputElement to make it available for the next call\n",
              "  // to uploadFilesContinue from Python.\n",
              "  outputElement.steps = steps;\n",
              "\n",
              "  return _uploadFilesContinue(outputId);\n",
              "}\n",
              "\n",
              "// This is roughly an async generator (not supported in the browser yet),\n",
              "// where there are multiple asynchronous steps and the Python side is going\n",
              "// to poll for completion of each step.\n",
              "// This uses a Promise to block the python side on completion of each step,\n",
              "// then passes the result of the previous step as the input to the next step.\n",
              "function _uploadFilesContinue(outputId) {\n",
              "  const outputElement = document.getElementById(outputId);\n",
              "  const steps = outputElement.steps;\n",
              "\n",
              "  const next = steps.next(outputElement.lastPromiseValue);\n",
              "  return Promise.resolve(next.value.promise).then((value) => {\n",
              "    // Cache the last promise value to make it available to the next\n",
              "    // step of the generator.\n",
              "    outputElement.lastPromiseValue = value;\n",
              "    return next.value.response;\n",
              "  });\n",
              "}\n",
              "\n",
              "/**\n",
              " * Generator function which is called between each async step of the upload\n",
              " * process.\n",
              " * @param {string} inputId Element ID of the input file picker element.\n",
              " * @param {string} outputId Element ID of the output display.\n",
              " * @return {!Iterable<!Object>} Iterable of next steps.\n",
              " */\n",
              "function* uploadFilesStep(inputId, outputId) {\n",
              "  const inputElement = document.getElementById(inputId);\n",
              "  inputElement.disabled = false;\n",
              "\n",
              "  const outputElement = document.getElementById(outputId);\n",
              "  outputElement.innerHTML = '';\n",
              "\n",
              "  const pickedPromise = new Promise((resolve) => {\n",
              "    inputElement.addEventListener('change', (e) => {\n",
              "      resolve(e.target.files);\n",
              "    });\n",
              "  });\n",
              "\n",
              "  const cancel = document.createElement('button');\n",
              "  inputElement.parentElement.appendChild(cancel);\n",
              "  cancel.textContent = 'Cancel upload';\n",
              "  const cancelPromise = new Promise((resolve) => {\n",
              "    cancel.onclick = () => {\n",
              "      resolve(null);\n",
              "    };\n",
              "  });\n",
              "\n",
              "  // Wait for the user to pick the files.\n",
              "  const files = yield {\n",
              "    promise: Promise.race([pickedPromise, cancelPromise]),\n",
              "    response: {\n",
              "      action: 'starting',\n",
              "    }\n",
              "  };\n",
              "\n",
              "  cancel.remove();\n",
              "\n",
              "  // Disable the input element since further picks are not allowed.\n",
              "  inputElement.disabled = true;\n",
              "\n",
              "  if (!files) {\n",
              "    return {\n",
              "      response: {\n",
              "        action: 'complete',\n",
              "      }\n",
              "    };\n",
              "  }\n",
              "\n",
              "  for (const file of files) {\n",
              "    const li = document.createElement('li');\n",
              "    li.append(span(file.name, {fontWeight: 'bold'}));\n",
              "    li.append(span(\n",
              "        `(${file.type || 'n/a'}) - ${file.size} bytes, ` +\n",
              "        `last modified: ${\n",
              "            file.lastModifiedDate ? file.lastModifiedDate.toLocaleDateString() :\n",
              "                                    'n/a'} - `));\n",
              "    const percent = span('0% done');\n",
              "    li.appendChild(percent);\n",
              "\n",
              "    outputElement.appendChild(li);\n",
              "\n",
              "    const fileDataPromise = new Promise((resolve) => {\n",
              "      const reader = new FileReader();\n",
              "      reader.onload = (e) => {\n",
              "        resolve(e.target.result);\n",
              "      };\n",
              "      reader.readAsArrayBuffer(file);\n",
              "    });\n",
              "    // Wait for the data to be ready.\n",
              "    let fileData = yield {\n",
              "      promise: fileDataPromise,\n",
              "      response: {\n",
              "        action: 'continue',\n",
              "      }\n",
              "    };\n",
              "\n",
              "    // Use a chunked sending to avoid message size limits. See b/62115660.\n",
              "    let position = 0;\n",
              "    do {\n",
              "      const length = Math.min(fileData.byteLength - position, MAX_PAYLOAD_SIZE);\n",
              "      const chunk = new Uint8Array(fileData, position, length);\n",
              "      position += length;\n",
              "\n",
              "      const base64 = btoa(String.fromCharCode.apply(null, chunk));\n",
              "      yield {\n",
              "        response: {\n",
              "          action: 'append',\n",
              "          file: file.name,\n",
              "          data: base64,\n",
              "        },\n",
              "      };\n",
              "\n",
              "      let percentDone = fileData.byteLength === 0 ?\n",
              "          100 :\n",
              "          Math.round((position / fileData.byteLength) * 100);\n",
              "      percent.textContent = `${percentDone}% done`;\n",
              "\n",
              "    } while (position < fileData.byteLength);\n",
              "  }\n",
              "\n",
              "  // All done.\n",
              "  yield {\n",
              "    response: {\n",
              "      action: 'complete',\n",
              "    }\n",
              "  };\n",
              "}\n",
              "\n",
              "scope.google = scope.google || {};\n",
              "scope.google.colab = scope.google.colab || {};\n",
              "scope.google.colab._files = {\n",
              "  _uploadFiles,\n",
              "  _uploadFilesContinue,\n",
              "};\n",
              "})(self);\n",
              "</script> "
            ]
          },
          "metadata": {}
        },
        {
          "output_type": "stream",
          "name": "stdout",
          "text": [
            "Saving kaggle.json to kaggle.json\n"
          ]
        },
        {
          "output_type": "execute_result",
          "data": {
            "text/plain": [
              "{'kaggle.json': b'{\"username\":\"ssingh23\",\"key\":\"d9e55c9309024312d65e64ffbc9c6991\"}'}"
            ]
          },
          "metadata": {},
          "execution_count": 1
        }
      ],
      "source": [
        "from google.colab import files\n",
        "files.upload()"
      ]
    },
    {
      "cell_type": "code",
      "source": [
        "!mkdir -p ~/.kaggle\n",
        "!cp kaggle.json ~/.kaggle/\n",
        "!chmod 600 ~/.kaggle/kaggle.json"
      ],
      "metadata": {
        "id": "EdrtDAmkpXUH"
      },
      "execution_count": 2,
      "outputs": []
    },
    {
      "cell_type": "code",
      "source": [
        "!kaggle datasets download -d rijulshr/pneumoniamnist\n"
      ],
      "metadata": {
        "colab": {
          "base_uri": "https://localhost:8080/"
        },
        "id": "kuGJWVwepdx3",
        "outputId": "8730a7f2-61cb-47e1-cc83-7bd96dbbb3f9"
      },
      "execution_count": 3,
      "outputs": [
        {
          "output_type": "stream",
          "name": "stdout",
          "text": [
            "Dataset URL: https://www.kaggle.com/datasets/rijulshr/pneumoniamnist\n",
            "License(s): MIT\n",
            "Downloading pneumoniamnist.zip to /content\n",
            "  0% 0.00/3.39M [00:00<?, ?B/s]\n",
            "100% 3.39M/3.39M [00:00<00:00, 214MB/s]\n"
          ]
        }
      ]
    },
    {
      "cell_type": "code",
      "source": [
        "!unzip -o pneumoniamnist.zip -d data/"
      ],
      "metadata": {
        "colab": {
          "base_uri": "https://localhost:8080/"
        },
        "id": "sh28HLkOpnEW",
        "outputId": "62376b93-df88-463d-9c64-609fcab7a4cc"
      },
      "execution_count": 4,
      "outputs": [
        {
          "output_type": "stream",
          "name": "stdout",
          "text": [
            "Archive:  pneumoniamnist.zip\n",
            "  inflating: data/pneumoniamnist.npz  \n"
          ]
        }
      ]
    },
    {
      "cell_type": "code",
      "source": [
        "import numpy as np\n",
        "data = np.load('data/pneumoniamnist.npz')\n",
        "print(data.files)\n"
      ],
      "metadata": {
        "colab": {
          "base_uri": "https://localhost:8080/"
        },
        "id": "VxTe2jyvptoG",
        "outputId": "dc2ef93a-9de9-45e9-fb60-a2a4870e23f2"
      },
      "execution_count": 5,
      "outputs": [
        {
          "output_type": "stream",
          "name": "stdout",
          "text": [
            "['train_images', 'train_labels', 'val_images', 'val_labels', 'test_images', 'test_labels']\n"
          ]
        }
      ]
    },
    {
      "cell_type": "code",
      "source": [
        "import numpy as np\n",
        "\n",
        "data = np.load('data/pneumoniamnist.npz')\n",
        "\n",
        "train_images = data['train_images']\n",
        "train_labels = data['train_labels']"
      ],
      "metadata": {
        "id": "bwmXryL3q6U2"
      },
      "execution_count": 6,
      "outputs": []
    },
    {
      "cell_type": "code",
      "source": [
        "import matplotlib.pyplot as plt\n",
        "\n",
        "train_images = train_images.squeeze()\n",
        "train_labels = train_labels.squeeze()\n",
        "\n",
        "def plot_samples(images, labels, class_names=['Normal', 'Pneumonia']):\n",
        "    fig, axes = plt.subplots(2, 5, figsize=(15, 6))\n",
        "    fig.suptitle(\"Sample X-ray Images from Each Class\", fontsize=16)\n",
        "\n",
        "    for class_idx in range(2):\n",
        "        class_images = images[labels == class_idx]\n",
        "        for i in range(5):\n",
        "            ax = axes[class_idx, i]\n",
        "            ax.imshow(class_images[i], cmap='gray')\n",
        "            ax.axis('off')\n",
        "            if i == 0:\n",
        "                ax.set_ylabel(class_names[class_idx], fontsize=14)\n",
        "\n",
        "    plt.tight_layout()\n",
        "    plt.show()\n",
        "\n",
        "plot_samples(train_images, train_labels)\n"
      ],
      "metadata": {
        "colab": {
          "base_uri": "https://localhost:8080/",
          "height": 586
        },
        "id": "h6bzO7RgqO_W",
        "outputId": "e5d8df66-b16e-459d-9b88-526637ae9a81"
      },
      "execution_count": 7,
      "outputs": [
        {
          "output_type": "display_data",
          "data": {
            "text/plain": [
              "<Figure size 1500x600 with 10 Axes>"
            ],
            "image/png": "[encoded data removed]"
          },
          "metadata": {}
        }
      ]
    },
    {
      "cell_type": "code",
      "source": [
        "unique, counts = np.unique(train_labels, return_counts=True)\n",
        "class_dist = dict(zip(unique, counts))\n",
        "\n",
        "print(\"Class Distribution in Training Set:\")\n",
        "for k, v in class_dist.items():\n",
        "    label = \"Normal\" if k == 0 else \"Pneumonia\"\n",
        "    print(f\"{label}: {v}\")\n"
      ],
      "metadata": {
        "colab": {
          "base_uri": "https://localhost:8080/"
        },
        "id": "zyJSuDoFrHWd",
        "outputId": "14b4dd9a-624d-4485-abdb-c6956f3b645e"
      },
      "execution_count": 8,
      "outputs": [
        {
          "output_type": "stream",
          "name": "stdout",
          "text": [
            "Class Distribution in Training Set:\n",
            "Normal: 388\n",
            "Pneumonia: 3494\n"
          ]
        }
      ]
    },
    {
      "cell_type": "code",
      "source": [
        "!pip install -q albumentations"
      ],
      "metadata": {
        "id": "9OFhPWGospB9"
      },
      "execution_count": 9,
      "outputs": []
    },
    {
      "cell_type": "code",
      "source": [
        "import albumentations as A\n",
        "from albumentations.pytorch import ToTensorV2\n",
        "\n",
        "# Training transforms with augmentation\n",
        "train_transform = A.Compose([\n",
        "    A.Resize(224, 224),\n",
        "    A.HorizontalFlip(p=0.5),\n",
        "    A.RandomBrightnessContrast(p=0.2),\n",
        "    A.ShiftScaleRotate(shift_limit=0.05, scale_limit=0.1, rotate_limit=10, p=0.3),\n",
        "    A.Normalize(mean=(0.5,), std=(0.5,)),\n",
        "    ToTensorV2()\n",
        "])\n",
        "\n",
        "# Validation & test (no augmentation, just normalization)\n",
        "val_test_transform = A.Compose([\n",
        "    A.Resize(224, 224),\n",
        "    A.Normalize(mean=(0.5,), std=(0.5,)),\n",
        "    ToTensorV2()\n",
        "])\n"
      ],
      "metadata": {
        "colab": {
          "base_uri": "https://localhost:8080/"
        },
        "id": "fFZgexXRstou",
        "outputId": "9eb2f885-2675-4b4c-8142-d68347254da0"
      },
      "execution_count": 10,
      "outputs": [
        {
          "output_type": "stream",
          "name": "stderr",
          "text": [
            "/usr/local/lib/python3.11/dist-packages/albumentations/core/validation.py:114: UserWarning: ShiftScaleRotate is a special case of Affine transform. Please use Affine transform instead.\n",
            "  original_init(self, **validated_kwargs)\n"
          ]
        }
      ]
    },
    {
      "cell_type": "code",
      "source": [
        "from torch.utils.data import Dataset\n",
        "\n",
        "class PneumoniaDataset(Dataset):\n",
        "    def __init__(self, images, labels, transform=None):\n",
        "        self.images = images.astype(np.uint8)\n",
        "        self.labels = labels.astype(np.int64)\n",
        "        self.transform = transform\n",
        "\n",
        "    def __len__(self):\n",
        "        return len(self.images)\n",
        "\n",
        "    def __getitem__(self, idx):\n",
        "        image = self.images[idx]\n",
        "        label = self.labels[idx]\n",
        "\n",
        "        image = np.expand_dims(image, axis=-1)\n",
        "\n",
        "        if self.transform:\n",
        "            image = self.transform(image=image)['image']\n",
        "\n",
        "        return image, label\n"
      ],
      "metadata": {
        "id": "Q_L_Z3xYtI2E"
      },
      "execution_count": 11,
      "outputs": []
    },
    {
      "cell_type": "code",
      "source": [
        "import numpy as np\n",
        "\n",
        "data = np.load('data/pneumoniamnist.npz')\n",
        "\n",
        "# Extracting arrays\n",
        "train_images = data['train_images']\n",
        "train_labels = data['train_labels']\n",
        "val_images = data['val_images']\n",
        "val_labels = data['val_labels']\n",
        "test_images = data['test_images']\n",
        "test_labels = data['test_labels']"
      ],
      "metadata": {
        "id": "_oB7vqH4tszF"
      },
      "execution_count": 12,
      "outputs": []
    },
    {
      "cell_type": "code",
      "source": [
        "from torch.utils.data import DataLoader\n",
        "\n",
        "train_dataset = PneumoniaDataset(train_images, train_labels, transform=train_transform)\n",
        "val_dataset = PneumoniaDataset(val_images, val_labels, transform=val_test_transform)\n",
        "test_dataset = PneumoniaDataset(test_images, test_labels, transform=val_test_transform)\n",
        "\n",
        "train_loader = DataLoader(train_dataset, batch_size=32, shuffle=True)\n",
        "val_loader = DataLoader(val_dataset, batch_size=32, shuffle=False)\n",
        "test_loader = DataLoader(test_dataset, batch_size=32, shuffle=False)\n"
      ],
      "metadata": {
        "id": "46sL5x8GtR39"
      },
      "execution_count": 13,
      "outputs": []
    },
    {
      "cell_type": "code",
      "source": [
        "from sklearn.utils.class_weight import compute_class_weight\n",
        "import torch\n",
        "\n",
        "train_labels_flat = train_labels.flatten()\n",
        "\n",
        "# Computing class weights\n",
        "class_weights = compute_class_weight(class_weight='balanced', classes=np.unique(train_labels_flat), y=train_labels_flat)\n",
        "\n",
        "class_weights = torch.tensor(class_weights, dtype=torch.float32)\n",
        "\n",
        "print(\"Class Weights:\", class_weights)"
      ],
      "metadata": {
        "colab": {
          "base_uri": "https://localhost:8080/"
        },
        "id": "1ltSc0wxt6mM",
        "outputId": "19b5c4cd-d00e-42bc-bd9b-69a83e6261fc"
      },
      "execution_count": 14,
      "outputs": [
        {
          "output_type": "stream",
          "name": "stdout",
          "text": [
            "Class Weights: tensor([5.0026, 0.5555])\n"
          ]
        }
      ]
    },
    {
      "cell_type": "code",
      "source": [
        "device = torch.device(\"cuda\" if torch.cuda.is_available() else \"cpu\")\n",
        "criterion = torch.nn.CrossEntropyLoss(weight=class_weights.to(device))"
      ],
      "metadata": {
        "id": "mqHxdNKYvEpU"
      },
      "execution_count": 15,
      "outputs": []
    },
    {
      "cell_type": "code",
      "source": [
        "from torchvision import models\n",
        "\n",
        "# Loading pre-trained ResNet50\n",
        "model = models.resnet50(pretrained=True)\n"
      ],
      "metadata": {
        "colab": {
          "base_uri": "https://localhost:8080/"
        },
        "id": "CxNzHKpBjBVY",
        "outputId": "448eb717-b76b-4bc0-97d7-c4c5bfabff2c"
      },
      "execution_count": 16,
      "outputs": [
        {
          "output_type": "stream",
          "name": "stderr",
          "text": [
            "/usr/local/lib/python3.11/dist-packages/torchvision/models/_utils.py:208: UserWarning: The parameter 'pretrained' is deprecated since 0.13 and may be removed in the future, please use 'weights' instead.\n",
            "  warnings.warn(\n",
            "/usr/local/lib/python3.11/dist-packages/torchvision/models/_utils.py:223: UserWarning: Arguments other than a weight enum or `None` for 'weights' are deprecated since 0.13 and may be removed in the future. The current behavior is equivalent to passing `weights=ResNet50_Weights.IMAGENET1K_V1`. You can also use `weights=ResNet50_Weights.DEFAULT` to get the most up-to-date weights.\n",
            "  warnings.warn(msg)\n",
            "Downloading: \"https://download.pytorch.org/models/resnet50-0676ba61.pth\" to /root/.cache/torch/hub/checkpoints/resnet50-0676ba61.pth\n",
            "100%|██████████| 97.8M/97.8M [00:01<00:00, 72.3MB/s]\n"
          ]
        }
      ]
    },
    {
      "cell_type": "code",
      "source": [
        "from torch import nn\n",
        "\n",
        "# Modify first conv layer to accept 1 channel instead of 3\n",
        "model.conv1 = nn.Conv2d(1, 64, kernel_size=7, stride=2, padding=3, bias=False)\n"
      ],
      "metadata": {
        "id": "co9_2k64jIzI"
      },
      "execution_count": 17,
      "outputs": []
    },
    {
      "cell_type": "code",
      "source": [
        "# Modify final FC layer to output 2 classes\n",
        "num_ftrs = model.fc.in_features\n",
        "model.fc = nn.Linear(num_ftrs, 2)\n"
      ],
      "metadata": {
        "id": "CzWgRhDejM2o"
      },
      "execution_count": 18,
      "outputs": []
    },
    {
      "cell_type": "code",
      "source": [
        "device = torch.device(\"cuda\" if torch.cuda.is_available() else \"cpu\")\n",
        "model = model.to(device)"
      ],
      "metadata": {
        "id": "IC6ii5kXjVUv"
      },
      "execution_count": 19,
      "outputs": []
    },
    {
      "cell_type": "code",
      "source": [
        "import torch.optim as optim\n",
        "\n",
        "optimizer = optim.Adam(model.parameters(), lr=1e-4)\n",
        "\n",
        "scheduler = optim.lr_scheduler.StepLR(optimizer, step_size=5, gamma=0.1)"
      ],
      "metadata": {
        "id": "QWjTNiCzja8x"
      },
      "execution_count": 20,
      "outputs": []
    },
    {
      "cell_type": "code",
      "source": [
        "def train_one_epoch(model, dataloader, optimizer, criterion, device):\n",
        "    model.train()\n",
        "    running_loss = 0.0\n",
        "    correct = 0\n",
        "    total = 0\n",
        "\n",
        "    for batch_idx, (inputs, labels) in enumerate(dataloader):\n",
        "        inputs, labels = inputs.to(device), labels.to(device).squeeze()\n",
        "\n",
        "        optimizer.zero_grad()\n",
        "        outputs = model(inputs)\n",
        "        loss = criterion(outputs, labels)\n",
        "        loss.backward()\n",
        "        optimizer.step()\n",
        "\n",
        "        running_loss += loss.item() * inputs.size(0)\n",
        "        _, predicted = torch.max(outputs, 1)\n",
        "        correct += (predicted == labels).sum().item()\n",
        "        total += labels.size(0)\n",
        "\n",
        "        if batch_idx % 10 == 0:  # print every 10 batches\n",
        "            print(f\"  Batch {batch_idx}/{len(dataloader)} - Loss: {loss.item():.4f}\")\n",
        "\n",
        "    epoch_loss = running_loss / total\n",
        "    epoch_acc = correct / total\n",
        "    return epoch_loss, epoch_acc\n"
      ],
      "metadata": {
        "id": "lipx1gcxjeQh"
      },
      "execution_count": 21,
      "outputs": []
    },
    {
      "cell_type": "code",
      "source": [
        "def evaluate(model, dataloader, criterion, device):\n",
        "    model.eval()\n",
        "    running_loss = 0.0\n",
        "    correct = 0\n",
        "    total = 0\n",
        "\n",
        "    with torch.no_grad():\n",
        "        for inputs, labels in dataloader:\n",
        "            inputs, labels = inputs.to(device), labels.to(device).squeeze()\n",
        "            outputs = model(inputs)\n",
        "            loss = criterion(outputs, labels)\n",
        "\n",
        "            running_loss += loss.item() * inputs.size(0)\n",
        "            _, predicted = torch.max(outputs, 1)\n",
        "            correct += (predicted == labels).sum().item()\n",
        "            total += labels.size(0)\n",
        "\n",
        "    epoch_loss = running_loss / total\n",
        "    epoch_acc = correct / total\n",
        "    return epoch_loss, epoch_acc\n"
      ],
      "metadata": {
        "id": "2fATCuc9jokA"
      },
      "execution_count": 22,
      "outputs": []
    },
    {
      "cell_type": "code",
      "source": [
        "import torch\n",
        "print(\"GPU available:\", torch.cuda.is_available())\n",
        "print(\"Device:\", torch.cuda.get_device_name(0) if torch.cuda.is_available() else \"CPU\")\n"
      ],
      "metadata": {
        "colab": {
          "base_uri": "https://localhost:8080/"
        },
        "id": "V1EWPKVXxI0Y",
        "outputId": "5b6e09f2-7804-439b-e2f2-9bd797b66901"
      },
      "execution_count": 23,
      "outputs": [
        {
          "output_type": "stream",
          "name": "stdout",
          "text": [
            "GPU available: True\n",
            "Device: Tesla T4\n"
          ]
        }
      ]
    },
    {
      "cell_type": "code",
      "source": [
        "num_epochs = 10\n",
        "best_val_acc = 0\n",
        "\n",
        "for epoch in range(num_epochs):\n",
        "    train_loss, train_acc = train_one_epoch(model, train_loader, optimizer, criterion, device)\n",
        "    val_loss, val_acc = evaluate(model, val_loader, criterion, device)\n",
        "    scheduler.step()\n",
        "\n",
        "    print(f\"\\nEpoch {epoch+1}/{num_epochs}\")\n",
        "    print(f\"Train Loss: {train_loss:.4f} | Train Acc: {train_acc:.4f}\")\n",
        "    print(f\"Val   Loss: {val_loss:.4f} | Val   Acc: {val_acc:.4f}\")\n",
        "\n",
        "    if val_acc > best_val_acc:\n",
        "        best_val_acc = val_acc\n",
        "        torch.save(model.state_dict(), \"best_model.pth\")\n",
        "        print(\"Best model saved\")\n"
      ],
      "metadata": {
        "colab": {
          "base_uri": "https://localhost:8080/"
        },
        "id": "rlXy-w0cjr5w",
        "outputId": "a659ee47-305e-4196-a36a-bdb303ae6d26"
      },
      "execution_count": 24,
      "outputs": [
        {
          "output_type": "stream",
          "name": "stdout",
          "text": [
            "  Batch 0/122 - Loss: 0.6938\n",
            "  Batch 10/122 - Loss: 0.2321\n",
            "  Batch 20/122 - Loss: 0.3271\n",
            "  Batch 30/122 - Loss: 0.4154\n",
            "  Batch 40/122 - Loss: 0.2166\n",
            "  Batch 50/122 - Loss: 0.2058\n",
            "  Batch 60/122 - Loss: 0.2157\n",
            "  Batch 70/122 - Loss: 0.2967\n",
            "  Batch 80/122 - Loss: 0.2202\n",
            "  Batch 90/122 - Loss: 0.1350\n",
            "  Batch 100/122 - Loss: 0.1968\n",
            "  Batch 110/122 - Loss: 0.1446\n",
            "  Batch 120/122 - Loss: 0.1330\n",
            "\n",
            "Epoch 1/10\n",
            "Train Loss: 0.2427 | Train Acc: 0.9001\n",
            "Val   Loss: 0.2020 | Val   Acc: 0.8225\n",
            "Best model saved\n",
            "  Batch 0/122 - Loss: 0.2215\n",
            "  Batch 10/122 - Loss: 0.1076\n",
            "  Batch 20/122 - Loss: 0.0446\n",
            "  Batch 30/122 - Loss: 0.0864\n",
            "  Batch 40/122 - Loss: 0.0566\n",
            "  Batch 50/122 - Loss: 0.1244\n",
            "  Batch 60/122 - Loss: 0.2058\n",
            "  Batch 70/122 - Loss: 1.0704\n",
            "  Batch 80/122 - Loss: 0.1736\n",
            "  Batch 90/122 - Loss: 0.5311\n",
            "  Batch 100/122 - Loss: 0.0934\n",
            "  Batch 110/122 - Loss: 0.1269\n",
            "  Batch 120/122 - Loss: 0.3028\n",
            "\n",
            "Epoch 2/10\n",
            "Train Loss: 0.1717 | Train Acc: 0.9400\n",
            "Val   Loss: 0.1651 | Val   Acc: 0.9618\n",
            "Best model saved\n",
            "  Batch 0/122 - Loss: 0.0632\n",
            "  Batch 10/122 - Loss: 0.1964\n",
            "  Batch 20/122 - Loss: 0.1107\n",
            "  Batch 30/122 - Loss: 0.2188\n",
            "  Batch 40/122 - Loss: 0.2023\n",
            "  Batch 50/122 - Loss: 0.0254\n",
            "  Batch 60/122 - Loss: 0.0919\n",
            "  Batch 70/122 - Loss: 0.2997\n",
            "  Batch 80/122 - Loss: 0.0681\n",
            "  Batch 90/122 - Loss: 0.0676\n",
            "  Batch 100/122 - Loss: 0.0925\n",
            "  Batch 110/122 - Loss: 0.1439\n",
            "  Batch 120/122 - Loss: 0.1724\n",
            "\n",
            "Epoch 3/10\n",
            "Train Loss: 0.1178 | Train Acc: 0.9560\n",
            "Val   Loss: 0.1503 | Val   Acc: 0.9542\n",
            "  Batch 0/122 - Loss: 0.0694\n",
            "  Batch 10/122 - Loss: 0.1079\n",
            "  Batch 20/122 - Loss: 0.1480\n",
            "  Batch 30/122 - Loss: 0.0488\n",
            "  Batch 40/122 - Loss: 0.0621\n",
            "  Batch 50/122 - Loss: 0.0698\n",
            "  Batch 60/122 - Loss: 0.3055\n",
            "  Batch 70/122 - Loss: 0.0431\n",
            "  Batch 80/122 - Loss: 0.0678\n",
            "  Batch 90/122 - Loss: 0.1372\n",
            "  Batch 100/122 - Loss: 0.0988\n",
            "  Batch 110/122 - Loss: 0.0838\n",
            "  Batch 120/122 - Loss: 0.0467\n",
            "\n",
            "Epoch 4/10\n",
            "Train Loss: 0.1427 | Train Acc: 0.9529\n",
            "Val   Loss: 0.0922 | Val   Acc: 0.9637\n",
            "Best model saved\n",
            "  Batch 0/122 - Loss: 0.2046\n",
            "  Batch 10/122 - Loss: 0.0722\n",
            "  Batch 20/122 - Loss: 0.1766\n",
            "  Batch 30/122 - Loss: 0.0570\n",
            "  Batch 40/122 - Loss: 0.0365\n",
            "  Batch 50/122 - Loss: 0.0333\n",
            "  Batch 60/122 - Loss: 0.1048\n",
            "  Batch 70/122 - Loss: 0.0102\n",
            "  Batch 80/122 - Loss: 0.0163\n",
            "  Batch 90/122 - Loss: 0.2169\n",
            "  Batch 100/122 - Loss: 0.0971\n",
            "  Batch 110/122 - Loss: 0.0433\n",
            "  Batch 120/122 - Loss: 0.2655\n",
            "\n",
            "Epoch 5/10\n",
            "Train Loss: 0.1151 | Train Acc: 0.9616\n",
            "Val   Loss: 0.1231 | Val   Acc: 0.9656\n",
            "Best model saved\n",
            "  Batch 0/122 - Loss: 0.1403\n",
            "  Batch 10/122 - Loss: 0.0224\n",
            "  Batch 20/122 - Loss: 0.0499\n",
            "  Batch 30/122 - Loss: 0.1181\n",
            "  Batch 40/122 - Loss: 0.0657\n",
            "  Batch 50/122 - Loss: 0.0608\n",
            "  Batch 60/122 - Loss: 0.0924\n",
            "  Batch 70/122 - Loss: 0.0505\n",
            "  Batch 80/122 - Loss: 0.0339\n",
            "  Batch 90/122 - Loss: 0.0309\n",
            "  Batch 100/122 - Loss: 0.0862\n",
            "  Batch 110/122 - Loss: 0.1225\n",
            "  Batch 120/122 - Loss: 0.0397\n",
            "\n",
            "Epoch 6/10\n",
            "Train Loss: 0.0852 | Train Acc: 0.9701\n",
            "Val   Loss: 0.1081 | Val   Acc: 0.9752\n",
            "Best model saved\n",
            "  Batch 0/122 - Loss: 0.1499\n",
            "  Batch 10/122 - Loss: 0.0262\n",
            "  Batch 20/122 - Loss: 0.0174\n",
            "  Batch 30/122 - Loss: 0.0312\n",
            "  Batch 40/122 - Loss: 0.0226\n",
            "  Batch 50/122 - Loss: 0.0804\n",
            "  Batch 60/122 - Loss: 0.0370\n",
            "  Batch 70/122 - Loss: 0.0535\n",
            "  Batch 80/122 - Loss: 0.0111\n",
            "  Batch 90/122 - Loss: 0.0631\n",
            "  Batch 100/122 - Loss: 0.0236\n",
            "  Batch 110/122 - Loss: 0.0839\n",
            "  Batch 120/122 - Loss: 0.0049\n",
            "\n",
            "Epoch 7/10\n",
            "Train Loss: 0.0569 | Train Acc: 0.9807\n",
            "Val   Loss: 0.0988 | Val   Acc: 0.9752\n",
            "  Batch 0/122 - Loss: 0.0774\n",
            "  Batch 10/122 - Loss: 0.0897\n",
            "  Batch 20/122 - Loss: 0.0330\n",
            "  Batch 30/122 - Loss: 0.1425\n",
            "  Batch 40/122 - Loss: 0.0349\n",
            "  Batch 50/122 - Loss: 0.0245\n",
            "  Batch 60/122 - Loss: 0.1461\n",
            "  Batch 70/122 - Loss: 0.0248\n",
            "  Batch 80/122 - Loss: 0.0426\n",
            "  Batch 90/122 - Loss: 0.0149\n",
            "  Batch 100/122 - Loss: 0.0353\n",
            "  Batch 110/122 - Loss: 0.0267\n",
            "  Batch 120/122 - Loss: 0.0266\n",
            "\n",
            "Epoch 8/10\n",
            "Train Loss: 0.0592 | Train Acc: 0.9809\n",
            "Val   Loss: 0.0802 | Val   Acc: 0.9752\n",
            "  Batch 0/122 - Loss: 0.0150\n",
            "  Batch 10/122 - Loss: 0.0692\n",
            "  Batch 20/122 - Loss: 0.0565\n",
            "  Batch 30/122 - Loss: 0.0116\n",
            "  Batch 40/122 - Loss: 0.0281\n",
            "  Batch 50/122 - Loss: 0.0111\n",
            "  Batch 60/122 - Loss: 0.0791\n",
            "  Batch 70/122 - Loss: 0.0387\n",
            "  Batch 80/122 - Loss: 0.0535\n",
            "  Batch 90/122 - Loss: 0.0534\n",
            "  Batch 100/122 - Loss: 0.0852\n",
            "  Batch 110/122 - Loss: 0.0711\n",
            "  Batch 120/122 - Loss: 0.0655\n",
            "\n",
            "Epoch 9/10\n",
            "Train Loss: 0.0446 | Train Acc: 0.9861\n",
            "Val   Loss: 0.0707 | Val   Acc: 0.9676\n",
            "  Batch 0/122 - Loss: 0.0680\n",
            "  Batch 10/122 - Loss: 0.0190\n",
            "  Batch 20/122 - Loss: 0.0934\n",
            "  Batch 30/122 - Loss: 0.0391\n",
            "  Batch 40/122 - Loss: 0.0081\n",
            "  Batch 50/122 - Loss: 0.0054\n",
            "  Batch 60/122 - Loss: 0.0088\n",
            "  Batch 70/122 - Loss: 0.0823\n",
            "  Batch 80/122 - Loss: 0.0170\n",
            "  Batch 90/122 - Loss: 0.0074\n",
            "  Batch 100/122 - Loss: 0.0030\n",
            "  Batch 110/122 - Loss: 0.0092\n",
            "  Batch 120/122 - Loss: 0.0513\n",
            "\n",
            "Epoch 10/10\n",
            "Train Loss: 0.0453 | Train Acc: 0.9848\n",
            "Val   Loss: 0.1073 | Val   Acc: 0.9752\n"
          ]
        }
      ]
    },
    {
      "cell_type": "code",
      "source": [
        "test_loss, test_acc = evaluate(model, test_loader, criterion, device)\n",
        "print(f\"\\n Test Loss: {test_loss:.4f} | Test Accuracy: {test_acc:.4f}\")"
      ],
      "metadata": {
        "colab": {
          "base_uri": "https://localhost:8080/"
        },
        "id": "8GSt6DVT1T47",
        "outputId": "ea68dc89-b997-4308-ba3c-6dc54faba3fd"
      },
      "execution_count": 25,
      "outputs": [
        {
          "output_type": "stream",
          "name": "stdout",
          "text": [
            "\n",
            " Test Loss: 0.7427 | Test Accuracy: 0.9103\n"
          ]
        }
      ]
    },
    {
      "cell_type": "code",
      "source": [
        "from sklearn.metrics import confusion_matrix\n",
        "import seaborn as sns\n",
        "import matplotlib.pyplot as plt\n",
        "\n",
        "all_preds = []\n",
        "all_labels = []\n",
        "\n",
        "model.eval()\n",
        "with torch.no_grad():\n",
        "    for inputs, labels in test_loader:\n",
        "        inputs = inputs.to(device)\n",
        "        labels = labels.squeeze().to(device)\n",
        "\n",
        "        outputs = model(inputs)\n",
        "        _, predicted = torch.max(outputs, 1)\n",
        "\n",
        "        all_preds.extend(predicted.cpu().numpy())\n",
        "        all_labels.extend(labels.cpu().numpy())\n",
        "\n",
        "# Confusion matrix\n",
        "cm = confusion_matrix(all_labels, all_preds)\n",
        "\n",
        "plt.figure(figsize=(5,4))\n",
        "sns.heatmap(cm, annot=True, fmt='d', cmap='Blues', xticklabels=['Normal', 'Pneumonia'], yticklabels=['Normal', 'Pneumonia'])\n",
        "plt.xlabel('Predicted')\n",
        "plt.ylabel('Actual')\n",
        "plt.title('Confusion Matrix on Test Set')\n",
        "plt.show()\n"
      ],
      "metadata": {
        "colab": {
          "base_uri": "https://localhost:8080/",
          "height": 410
        },
        "id": "Tn2UIUWe1y0r",
        "outputId": "5795f4da-7b1c-4c98-9b07-7fa6327f7942"
      },
      "execution_count": 26,
      "outputs": [
        {
          "output_type": "display_data",
          "data": {
            "text/plain": [
              "<Figure size 500x400 with 2 Axes>"
            ],
            "image/png": "[encoded data removed]"
          },
          "metadata": {}
        }
      ]
    },
    {
      "cell_type": "code",
      "source": [
        "from sklearn.metrics import classification_report, roc_auc_score\n",
        "\n",
        "print(\"\\n Classification Report:\")\n",
        "print(classification_report(all_labels, all_preds, target_names=[\"Normal\", \"Pneumonia\"]))\n",
        "\n",
        "from sklearn.metrics import roc_auc_score\n",
        "\n",
        "all_probs = []\n",
        "\n",
        "model.eval()\n",
        "with torch.no_grad():\n",
        "    for inputs, labels in test_loader:\n",
        "        inputs = inputs.to(device)\n",
        "        outputs = model(inputs)\n",
        "        probs = torch.softmax(outputs, dim=1)[:, 1]  # class 1 prob\n",
        "        all_probs.extend(probs.cpu().numpy())\n",
        "\n",
        "auc = roc_auc_score(all_labels, all_probs)\n",
        "print(f\"\\n AUC-ROC Score: {auc:.4f}\")"
      ],
      "metadata": {
        "colab": {
          "base_uri": "https://localhost:8080/"
        },
        "id": "18MtTghh15ij",
        "outputId": "ad15a893-0db6-4ae2-f345-59fd2c45fce2"
      },
      "execution_count": 27,
      "outputs": [
        {
          "output_type": "stream",
          "name": "stdout",
          "text": [
            "\n",
            " Classification Report:\n",
            "              precision    recall  f1-score   support\n",
            "\n",
            "      Normal       0.99      0.77      0.87       234\n",
            "   Pneumonia       0.88      0.99      0.93       390\n",
            "\n",
            "    accuracy                           0.91       624\n",
            "   macro avg       0.93      0.88      0.90       624\n",
            "weighted avg       0.92      0.91      0.91       624\n",
            "\n",
            "\n",
            " AUC-ROC Score: 0.9713\n"
          ]
        }
      ]
    },
    {
      "cell_type": "code",
      "source": [
        "import pandas as pd\n",
        "\n",
        "df_results = pd.DataFrame({\n",
        "    'actual': all_labels,\n",
        "    'predicted': all_preds,\n",
        "    'prob_pneumonia': all_probs\n",
        "})\n",
        "\n",
        "df_results.to_csv('predictions.csv', index=False)"
      ],
      "metadata": {
        "id": "IA9H0J1I2RK6"
      },
      "execution_count": 28,
      "outputs": []
    }
  ]
}